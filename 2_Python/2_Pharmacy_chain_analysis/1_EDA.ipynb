{
 "cells": [
  {
   "cell_type": "markdown",
   "id": "52c3c16e",
   "metadata": {},
   "source": [
    "### Описание\n",
    "Практика разведочного анализа (EDA) датасета аптечной сети (датасет сгенерированный)"
   ]
  },
  {
   "cell_type": "markdown",
   "id": "f7c5d40a",
   "metadata": {},
   "source": [
    "### Загружаем и обрабатываем датафрейм"
   ]
  },
  {
   "cell_type": "code",
   "execution_count": 2,
   "id": "7180b8e0",
   "metadata": {},
   "outputs": [
    {
     "data": {
      "text/html": [
       "<div>\n",
       "<style scoped>\n",
       "    .dataframe tbody tr th:only-of-type {\n",
       "        vertical-align: middle;\n",
       "    }\n",
       "\n",
       "    .dataframe tbody tr th {\n",
       "        vertical-align: top;\n",
       "    }\n",
       "\n",
       "    .dataframe thead th {\n",
       "        text-align: right;\n",
       "    }\n",
       "</style>\n",
       "<table border=\"1\" class=\"dataframe\">\n",
       "  <thead>\n",
       "    <tr style=\"text-align: right;\">\n",
       "      <th></th>\n",
       "      <th>DR_Dat</th>\n",
       "      <th>DR_Tim</th>\n",
       "      <th>DR_NChk</th>\n",
       "      <th>DR_NDoc</th>\n",
       "      <th>DR_Apt</th>\n",
       "      <th>DR_Kkm</th>\n",
       "      <th>DR_TDoc</th>\n",
       "      <th>DR_TPay</th>\n",
       "      <th>DR_CDrugs</th>\n",
       "      <th>DR_NDrugs</th>\n",
       "      <th>...</th>\n",
       "      <th>DR_Prod</th>\n",
       "      <th>DR_Kol</th>\n",
       "      <th>DR_CZak</th>\n",
       "      <th>DR_CRoz</th>\n",
       "      <th>DR_SDisc</th>\n",
       "      <th>DR_CDisc</th>\n",
       "      <th>DR_BCDisc</th>\n",
       "      <th>DR_TabEmpl</th>\n",
       "      <th>DR_VZak</th>\n",
       "      <th>DR_Pos</th>\n",
       "    </tr>\n",
       "  </thead>\n",
       "  <tbody>\n",
       "    <tr>\n",
       "      <th>0</th>\n",
       "      <td>2022-08-11</td>\n",
       "      <td>10:15:35</td>\n",
       "      <td>2173</td>\n",
       "      <td>2004598</td>\n",
       "      <td>2</td>\n",
       "      <td>22577</td>\n",
       "      <td>Розничная реализация</td>\n",
       "      <td>18</td>\n",
       "      <td>45399</td>\n",
       "      <td>ЦИПРОЛЕТ 3МГ/МЛ. 5МЛ. №1 ГЛ.КАПЛИ ФЛ./КАП. /Д-...</td>\n",
       "      <td>...</td>\n",
       "      <td>Д-р Редди с Лабораторис Лтд / Dr.REDDY's</td>\n",
       "      <td>1.0</td>\n",
       "      <td>41.08</td>\n",
       "      <td>51.0</td>\n",
       "      <td>12.0</td>\n",
       "      <td>925.0</td>\n",
       "      <td>2.000000e+11</td>\n",
       "      <td>205</td>\n",
       "      <td>1</td>\n",
       "      <td>1.0</td>\n",
       "    </tr>\n",
       "    <tr>\n",
       "      <th>1</th>\n",
       "      <td>2022-08-11</td>\n",
       "      <td>10:27:46</td>\n",
       "      <td>2174</td>\n",
       "      <td>2004598</td>\n",
       "      <td>2</td>\n",
       "      <td>22577</td>\n",
       "      <td>Розничная реализация</td>\n",
       "      <td>15</td>\n",
       "      <td>261519</td>\n",
       "      <td>ПЕРЕКИСЬ ВОДОРОДА 3% 100МЛ. №40 Р-Р ФЛ.</td>\n",
       "      <td>...</td>\n",
       "      <td>ФЛОРА КАВКАЗА ОАО</td>\n",
       "      <td>1.0</td>\n",
       "      <td>18.61</td>\n",
       "      <td>31.0</td>\n",
       "      <td>3.0</td>\n",
       "      <td>9.0</td>\n",
       "      <td>2.000100e+11</td>\n",
       "      <td>205</td>\n",
       "      <td>1</td>\n",
       "      <td>1.0</td>\n",
       "    </tr>\n",
       "    <tr>\n",
       "      <th>2</th>\n",
       "      <td>2022-08-11</td>\n",
       "      <td>10:27:46</td>\n",
       "      <td>2174</td>\n",
       "      <td>2004598</td>\n",
       "      <td>2</td>\n",
       "      <td>22577</td>\n",
       "      <td>Розничная реализация</td>\n",
       "      <td>15</td>\n",
       "      <td>460864</td>\n",
       "      <td>СОФЬЯ ГЕЛЬ Д/НОГ ВЕНОТОНИЗ. ТРОКСЕРУТИН ФОРТЕ ...</td>\n",
       "      <td>...</td>\n",
       "      <td>КОРОЛЕВФАРМ ООО</td>\n",
       "      <td>1.0</td>\n",
       "      <td>132.69</td>\n",
       "      <td>209.0</td>\n",
       "      <td>20.0</td>\n",
       "      <td>9.0</td>\n",
       "      <td>2.000100e+11</td>\n",
       "      <td>205</td>\n",
       "      <td>1</td>\n",
       "      <td>2.0</td>\n",
       "    </tr>\n",
       "    <tr>\n",
       "      <th>3</th>\n",
       "      <td>2022-08-11</td>\n",
       "      <td>10:27:46</td>\n",
       "      <td>2174</td>\n",
       "      <td>2004598</td>\n",
       "      <td>2</td>\n",
       "      <td>22577</td>\n",
       "      <td>Розничная реализация</td>\n",
       "      <td>15</td>\n",
       "      <td>172823</td>\n",
       "      <td>СОФЬЯ ГХК КРЕМ Д/ТЕЛА ХОНДРОИТИН+ГЛЮКОЗАМИН 12...</td>\n",
       "      <td>...</td>\n",
       "      <td>КОРОЛЕВФАРМ ООО</td>\n",
       "      <td>1.0</td>\n",
       "      <td>133.65</td>\n",
       "      <td>210.0</td>\n",
       "      <td>21.0</td>\n",
       "      <td>9.0</td>\n",
       "      <td>2.000100e+11</td>\n",
       "      <td>205</td>\n",
       "      <td>1</td>\n",
       "      <td>3.0</td>\n",
       "    </tr>\n",
       "    <tr>\n",
       "      <th>4</th>\n",
       "      <td>2022-08-11</td>\n",
       "      <td>10:33:56</td>\n",
       "      <td>2175</td>\n",
       "      <td>2004598</td>\n",
       "      <td>2</td>\n",
       "      <td>22577</td>\n",
       "      <td>Розничная реализация</td>\n",
       "      <td>18</td>\n",
       "      <td>79056</td>\n",
       "      <td>ГАЛВУС 50МГ. №28 ТАБ. /НОВАРТИС/</td>\n",
       "      <td>...</td>\n",
       "      <td>Новартис Фарма АГ</td>\n",
       "      <td>1.0</td>\n",
       "      <td>709.95</td>\n",
       "      <td>787.0</td>\n",
       "      <td>49.0</td>\n",
       "      <td>925.0</td>\n",
       "      <td>2.000000e+11</td>\n",
       "      <td>205</td>\n",
       "      <td>1</td>\n",
       "      <td>1.0</td>\n",
       "    </tr>\n",
       "  </tbody>\n",
       "</table>\n",
       "<p>5 rows × 21 columns</p>\n",
       "</div>"
      ],
      "text/plain": [
       "       DR_Dat    DR_Tim  DR_NChk  DR_NDoc  DR_Apt  DR_Kkm  \\\n",
       "0  2022-08-11  10:15:35     2173  2004598       2   22577   \n",
       "1  2022-08-11  10:27:46     2174  2004598       2   22577   \n",
       "2  2022-08-11  10:27:46     2174  2004598       2   22577   \n",
       "3  2022-08-11  10:27:46     2174  2004598       2   22577   \n",
       "4  2022-08-11  10:33:56     2175  2004598       2   22577   \n",
       "\n",
       "                DR_TDoc  DR_TPay  DR_CDrugs  \\\n",
       "0  Розничная реализация       18      45399   \n",
       "1  Розничная реализация       15     261519   \n",
       "2  Розничная реализация       15     460864   \n",
       "3  Розничная реализация       15     172823   \n",
       "4  Розничная реализация       18      79056   \n",
       "\n",
       "                                           DR_NDrugs  ...  \\\n",
       "0  ЦИПРОЛЕТ 3МГ/МЛ. 5МЛ. №1 ГЛ.КАПЛИ ФЛ./КАП. /Д-...  ...   \n",
       "1            ПЕРЕКИСЬ ВОДОРОДА 3% 100МЛ. №40 Р-Р ФЛ.  ...   \n",
       "2  СОФЬЯ ГЕЛЬ Д/НОГ ВЕНОТОНИЗ. ТРОКСЕРУТИН ФОРТЕ ...  ...   \n",
       "3  СОФЬЯ ГХК КРЕМ Д/ТЕЛА ХОНДРОИТИН+ГЛЮКОЗАМИН 12...  ...   \n",
       "4                   ГАЛВУС 50МГ. №28 ТАБ. /НОВАРТИС/  ...   \n",
       "\n",
       "                                    DR_Prod DR_Kol  DR_CZak  DR_CRoz  \\\n",
       "0  Д-р Редди с Лабораторис Лтд / Dr.REDDY's    1.0    41.08     51.0   \n",
       "1                         ФЛОРА КАВКАЗА ОАО    1.0    18.61     31.0   \n",
       "2                           КОРОЛЕВФАРМ ООО    1.0   132.69    209.0   \n",
       "3                           КОРОЛЕВФАРМ ООО    1.0   133.65    210.0   \n",
       "4                         Новартис Фарма АГ    1.0   709.95    787.0   \n",
       "\n",
       "   DR_SDisc  DR_CDisc     DR_BCDisc  DR_TabEmpl  DR_VZak  DR_Pos  \n",
       "0      12.0     925.0  2.000000e+11         205        1     1.0  \n",
       "1       3.0       9.0  2.000100e+11         205        1     1.0  \n",
       "2      20.0       9.0  2.000100e+11         205        1     2.0  \n",
       "3      21.0       9.0  2.000100e+11         205        1     3.0  \n",
       "4      49.0     925.0  2.000000e+11         205        1     1.0  \n",
       "\n",
       "[5 rows x 21 columns]"
      ]
     },
     "execution_count": 2,
     "metadata": {},
     "output_type": "execute_result"
    }
   ],
   "source": [
    "# Загрузка библиотеки pandas\n",
    "import pandas as pd\n",
    "\n",
    "# Загрузка датасета в датафрейм c кодировкой, принимающей кириллицу\n",
    "df = pd.read_csv('dataset/data.csv', encoding='1251')\n",
    "\n",
    "df.head()"
   ]
  },
  {
   "cell_type": "code",
   "execution_count": 3,
   "id": "9730d31e",
   "metadata": {},
   "outputs": [
    {
     "data": {
      "text/plain": [
       "(4462, 21)"
      ]
     },
     "execution_count": 3,
     "metadata": {},
     "output_type": "execute_result"
    }
   ],
   "source": [
    "# Проверяем размер датасета\n",
    "df.shape\n",
    "\n",
    "# В датасете 4462 строки и 21 столбец"
   ]
  },
  {
   "cell_type": "code",
   "execution_count": 4,
   "id": "5fe680e1",
   "metadata": {},
   "outputs": [
    {
     "data": {
      "text/plain": [
       "DR_Dat        False\n",
       "DR_Tim        False\n",
       "DR_NChk       False\n",
       "DR_NDoc       False\n",
       "DR_Apt        False\n",
       "DR_Kkm        False\n",
       "DR_TDoc       False\n",
       "DR_TPay       False\n",
       "DR_CDrugs     False\n",
       "DR_NDrugs     False\n",
       "DR_Suppl      False\n",
       "DR_Prod       False\n",
       "DR_Kol        False\n",
       "DR_CZak       False\n",
       "DR_CRoz       False\n",
       "DR_SDisc      False\n",
       "DR_CDisc       True\n",
       "DR_BCDisc      True\n",
       "DR_TabEmpl    False\n",
       "DR_VZak       False\n",
       "DR_Pos        False\n",
       "dtype: bool"
      ]
     },
     "execution_count": 4,
     "metadata": {},
     "output_type": "execute_result"
    }
   ],
   "source": [
    "# Проверяем наличие пустых значений в столбцах\n",
    "df.isna().any()\n",
    "\n",
    "# В некоторых столбцах есть пропуски, их можно заменить"
   ]
  },
  {
   "cell_type": "code",
   "execution_count": 5,
   "id": "249e9980",
   "metadata": {},
   "outputs": [
    {
     "data": {
      "text/plain": [
       "DR_Dat        False\n",
       "DR_Tim        False\n",
       "DR_NChk       False\n",
       "DR_NDoc       False\n",
       "DR_Apt        False\n",
       "DR_Kkm        False\n",
       "DR_TDoc       False\n",
       "DR_TPay       False\n",
       "DR_CDrugs     False\n",
       "DR_NDrugs     False\n",
       "DR_Suppl      False\n",
       "DR_Prod       False\n",
       "DR_Kol        False\n",
       "DR_CZak       False\n",
       "DR_CRoz       False\n",
       "DR_SDisc      False\n",
       "DR_CDisc      False\n",
       "DR_BCDisc     False\n",
       "DR_TabEmpl    False\n",
       "DR_VZak       False\n",
       "DR_Pos        False\n",
       "dtype: bool"
      ]
     },
     "execution_count": 5,
     "metadata": {},
     "output_type": "execute_result"
    }
   ],
   "source": [
    "# Заменяем пустные значения на 0\n",
    "df.fillna(0, inplace=True)\n",
    "df.isna().any()"
   ]
  },
  {
   "cell_type": "code",
   "execution_count": 6,
   "id": "b8828aee",
   "metadata": {},
   "outputs": [
    {
     "data": {
      "text/plain": [
       "Index(['DR_Dat', 'DR_Tim', 'DR_NChk', 'DR_NDoc', 'DR_Apt', 'DR_Kkm', 'DR_TDoc',\n",
       "       'DR_TPay', 'DR_CDrugs', 'DR_NDrugs', 'DR_Suppl', 'DR_Prod', 'DR_Kol',\n",
       "       'DR_CZak', 'DR_CRoz', 'DR_SDisc', 'DR_CDisc', 'DR_BCDisc', 'DR_TabEmpl',\n",
       "       'DR_VZak', 'DR_Pos'],\n",
       "      dtype='object')"
      ]
     },
     "execution_count": 6,
     "metadata": {},
     "output_type": "execute_result"
    }
   ],
   "source": [
    "# Устанавливаем формат дробных чисел\n",
    "pd.set_option('display.float_format', '{:.2f}'.format)\n",
    "\n",
    "# Устанавливаем отображение столбцов датафрейма\n",
    "pd.set_option('display.max_columns', 40)\n",
    "\n",
    "# Проверяем названия столбцов\n",
    "df.columns"
   ]
  },
  {
   "cell_type": "code",
   "execution_count": 7,
   "id": "c57599da",
   "metadata": {},
   "outputs": [],
   "source": [
    "# Опускаем лишние столбцы\n",
    "our_cols = ['DR_Dat', 'DR_Tim', 'DR_NChk', 'DR_NDoc', 'DR_Apt', 'DR_NDrugs', 'DR_Kol',\n",
    "       'DR_CZak', 'DR_CRoz', 'DR_SDisc', 'DR_TPay', 'DR_CDrugs', 'DR_Suppl', 'DR_CDisc', 'DR_BCDisc', 'DR_TabEmpl', 'DR_VZak', 'DR_Pos']\n",
    "\n",
    "df = df[our_cols]"
   ]
  },
  {
   "cell_type": "code",
   "execution_count": 8,
   "id": "08d3e078",
   "metadata": {},
   "outputs": [
    {
     "data": {
      "text/html": [
       "<div>\n",
       "<style scoped>\n",
       "    .dataframe tbody tr th:only-of-type {\n",
       "        vertical-align: middle;\n",
       "    }\n",
       "\n",
       "    .dataframe tbody tr th {\n",
       "        vertical-align: top;\n",
       "    }\n",
       "\n",
       "    .dataframe thead th {\n",
       "        text-align: right;\n",
       "    }\n",
       "</style>\n",
       "<table border=\"1\" class=\"dataframe\">\n",
       "  <thead>\n",
       "    <tr style=\"text-align: right;\">\n",
       "      <th></th>\n",
       "      <th>dt</th>\n",
       "      <th>c_time</th>\n",
       "      <th>nchk</th>\n",
       "      <th>ndoc</th>\n",
       "      <th>apt</th>\n",
       "      <th>drug</th>\n",
       "      <th>kol</th>\n",
       "      <th>zak</th>\n",
       "      <th>roz</th>\n",
       "      <th>disc</th>\n",
       "      <th>pay_type</th>\n",
       "      <th>drug_id</th>\n",
       "      <th>suppl</th>\n",
       "      <th>disc_id</th>\n",
       "      <th>disc_barcode</th>\n",
       "      <th>empl</th>\n",
       "      <th>vzak</th>\n",
       "      <th>pos</th>\n",
       "    </tr>\n",
       "  </thead>\n",
       "  <tbody>\n",
       "    <tr>\n",
       "      <th>0</th>\n",
       "      <td>2022-08-11</td>\n",
       "      <td>10:15:35</td>\n",
       "      <td>2173</td>\n",
       "      <td>2004598</td>\n",
       "      <td>2</td>\n",
       "      <td>ЦИПРОЛЕТ 3МГ/МЛ. 5МЛ. №1 ГЛ.КАПЛИ ФЛ./КАП. /Д-...</td>\n",
       "      <td>1.00</td>\n",
       "      <td>41.08</td>\n",
       "      <td>51.00</td>\n",
       "      <td>12.00</td>\n",
       "      <td>18</td>\n",
       "      <td>45399</td>\n",
       "      <td>Катрен г.Химки</td>\n",
       "      <td>925.00</td>\n",
       "      <td>200000000492.00</td>\n",
       "      <td>205</td>\n",
       "      <td>1</td>\n",
       "      <td>1.00</td>\n",
       "    </tr>\n",
       "  </tbody>\n",
       "</table>\n",
       "</div>"
      ],
      "text/plain": [
       "           dt    c_time  nchk     ndoc  apt  \\\n",
       "0  2022-08-11  10:15:35  2173  2004598    2   \n",
       "\n",
       "                                                drug  kol   zak   roz  disc  \\\n",
       "0  ЦИПРОЛЕТ 3МГ/МЛ. 5МЛ. №1 ГЛ.КАПЛИ ФЛ./КАП. /Д-... 1.00 41.08 51.00 12.00   \n",
       "\n",
       "   pay_type  drug_id           suppl  disc_id    disc_barcode  empl  vzak  pos  \n",
       "0        18    45399  Катрен г.Химки   925.00 200000000492.00   205     1 1.00  "
      ]
     },
     "execution_count": 8,
     "metadata": {},
     "output_type": "execute_result"
    }
   ],
   "source": [
    "# Переименовываем столбцы на более понятные\n",
    "df.columns = ['dt', 'c_time', 'nchk', 'ndoc', 'apt', 'drug', 'kol',\n",
    "       'zak', 'roz', 'disc', 'pay_type', 'drug_id', 'suppl', 'disc_id', 'disc_barcode', 'empl', 'vzak', 'pos']\n",
    "df.head(1)"
   ]
  },
  {
   "cell_type": "code",
   "execution_count": 9,
   "id": "e1a2369e",
   "metadata": {},
   "outputs": [
    {
     "data": {
      "text/plain": [
       "dt                 2\n",
       "c_time          1983\n",
       "nchk            1941\n",
       "ndoc              16\n",
       "apt                8\n",
       "drug            1876\n",
       "kol               51\n",
       "zak             2704\n",
       "roz              999\n",
       "disc             384\n",
       "pay_type           2\n",
       "drug_id         1876\n",
       "suppl             22\n",
       "disc_id            9\n",
       "disc_barcode     334\n",
       "empl              13\n",
       "vzak               2\n",
       "pos               24\n",
       "dtype: int64"
      ]
     },
     "execution_count": 9,
     "metadata": {},
     "output_type": "execute_result"
    }
   ],
   "source": [
    "# Проверяем кол-во уникальных значений в столбцах\n",
    "df.nunique()"
   ]
  },
  {
   "cell_type": "code",
   "execution_count": 10,
   "id": "dfb3f531",
   "metadata": {},
   "outputs": [
    {
     "data": {
      "text/html": [
       "<div>\n",
       "<style scoped>\n",
       "    .dataframe tbody tr th:only-of-type {\n",
       "        vertical-align: middle;\n",
       "    }\n",
       "\n",
       "    .dataframe tbody tr th {\n",
       "        vertical-align: top;\n",
       "    }\n",
       "\n",
       "    .dataframe thead th {\n",
       "        text-align: right;\n",
       "    }\n",
       "</style>\n",
       "<table border=\"1\" class=\"dataframe\">\n",
       "  <thead>\n",
       "    <tr style=\"text-align: right;\">\n",
       "      <th></th>\n",
       "      <th>dt</th>\n",
       "      <th>c_time</th>\n",
       "      <th>nchk</th>\n",
       "      <th>ndoc</th>\n",
       "      <th>apt</th>\n",
       "      <th>drug</th>\n",
       "      <th>kol</th>\n",
       "      <th>zak</th>\n",
       "      <th>roz</th>\n",
       "      <th>disc</th>\n",
       "      <th>pay_type</th>\n",
       "      <th>drug_id</th>\n",
       "      <th>suppl</th>\n",
       "      <th>disc_id</th>\n",
       "      <th>disc_barcode</th>\n",
       "      <th>empl</th>\n",
       "      <th>vzak</th>\n",
       "      <th>pos</th>\n",
       "    </tr>\n",
       "  </thead>\n",
       "  <tbody>\n",
       "    <tr>\n",
       "      <th>0</th>\n",
       "      <td>2022-08-11</td>\n",
       "      <td>10:15:35</td>\n",
       "      <td>2173</td>\n",
       "      <td>2004598</td>\n",
       "      <td>2</td>\n",
       "      <td>ЦИПРОЛЕТ 3МГ/МЛ. 5МЛ. №1 ГЛ.КАПЛИ ФЛ./КАП. /Д-...</td>\n",
       "      <td>1.00</td>\n",
       "      <td>41.08</td>\n",
       "      <td>51.00</td>\n",
       "      <td>12.00</td>\n",
       "      <td>18</td>\n",
       "      <td>45399</td>\n",
       "      <td>Катрен г.Химки</td>\n",
       "      <td>925</td>\n",
       "      <td>200000000492</td>\n",
       "      <td>205</td>\n",
       "      <td>1</td>\n",
       "      <td>1.00</td>\n",
       "    </tr>\n",
       "  </tbody>\n",
       "</table>\n",
       "</div>"
      ],
      "text/plain": [
       "           dt    c_time  nchk     ndoc  apt  \\\n",
       "0  2022-08-11  10:15:35  2173  2004598    2   \n",
       "\n",
       "                                                drug  kol   zak   roz  disc  \\\n",
       "0  ЦИПРОЛЕТ 3МГ/МЛ. 5МЛ. №1 ГЛ.КАПЛИ ФЛ./КАП. /Д-... 1.00 41.08 51.00 12.00   \n",
       "\n",
       "   pay_type  drug_id           suppl disc_id  disc_barcode  empl  vzak  pos  \n",
       "0        18    45399  Катрен г.Химки     925  200000000492   205     1 1.00  "
      ]
     },
     "execution_count": 10,
     "metadata": {},
     "output_type": "execute_result"
    }
   ],
   "source": [
    "# Меняем тип столбцов disc_barcode и disc_id на строковый, с части после запятой (т. к. это не числа)\n",
    "df['disc_barcode'] = df['disc_barcode'].astype('str')\n",
    "df['disc_barcode'] = df['disc_barcode'].astype('str').replace(r'\\.0', '', regex=True)\n",
    "df['disc_id'] = df['disc_id'].astype('str').replace(r'\\.0', '', regex=True)\n",
    "df.head(1)"
   ]
  },
  {
   "cell_type": "code",
   "execution_count": 11,
   "id": "03c77b28",
   "metadata": {},
   "outputs": [
    {
     "data": {
      "text/html": [
       "<div>\n",
       "<style scoped>\n",
       "    .dataframe tbody tr th:only-of-type {\n",
       "        vertical-align: middle;\n",
       "    }\n",
       "\n",
       "    .dataframe tbody tr th {\n",
       "        vertical-align: top;\n",
       "    }\n",
       "\n",
       "    .dataframe thead th {\n",
       "        text-align: right;\n",
       "    }\n",
       "</style>\n",
       "<table border=\"1\" class=\"dataframe\">\n",
       "  <thead>\n",
       "    <tr style=\"text-align: right;\">\n",
       "      <th></th>\n",
       "      <th>dt</th>\n",
       "      <th>c_time</th>\n",
       "      <th>nchk</th>\n",
       "      <th>ndoc</th>\n",
       "      <th>apt</th>\n",
       "      <th>drug</th>\n",
       "      <th>kol</th>\n",
       "      <th>zak</th>\n",
       "      <th>roz</th>\n",
       "      <th>disc</th>\n",
       "      <th>pay_type</th>\n",
       "      <th>drug_id</th>\n",
       "      <th>suppl</th>\n",
       "      <th>disc_id</th>\n",
       "      <th>disc_barcode</th>\n",
       "      <th>empl</th>\n",
       "      <th>vzak</th>\n",
       "      <th>pos</th>\n",
       "    </tr>\n",
       "  </thead>\n",
       "  <tbody>\n",
       "    <tr>\n",
       "      <th>0</th>\n",
       "      <td>11.08.2022</td>\n",
       "      <td>10:15:35</td>\n",
       "      <td>2173</td>\n",
       "      <td>2004598</td>\n",
       "      <td>2</td>\n",
       "      <td>ЦИПРОЛЕТ 3МГ/МЛ. 5МЛ. №1 ГЛ.КАПЛИ ФЛ./КАП. /Д-...</td>\n",
       "      <td>1.00</td>\n",
       "      <td>41.08</td>\n",
       "      <td>51.00</td>\n",
       "      <td>12.00</td>\n",
       "      <td>18</td>\n",
       "      <td>45399</td>\n",
       "      <td>Катрен г.Химки</td>\n",
       "      <td>925</td>\n",
       "      <td>200000000492</td>\n",
       "      <td>205</td>\n",
       "      <td>1</td>\n",
       "      <td>1.00</td>\n",
       "    </tr>\n",
       "  </tbody>\n",
       "</table>\n",
       "</div>"
      ],
      "text/plain": [
       "           dt    c_time  nchk     ndoc  apt  \\\n",
       "0  11.08.2022  10:15:35  2173  2004598    2   \n",
       "\n",
       "                                                drug  kol   zak   roz  disc  \\\n",
       "0  ЦИПРОЛЕТ 3МГ/МЛ. 5МЛ. №1 ГЛ.КАПЛИ ФЛ./КАП. /Д-... 1.00 41.08 51.00 12.00   \n",
       "\n",
       "   pay_type  drug_id           suppl disc_id  disc_barcode  empl  vzak  pos  \n",
       "0        18    45399  Катрен г.Химки     925  200000000492   205     1 1.00  "
      ]
     },
     "execution_count": 11,
     "metadata": {},
     "output_type": "execute_result"
    }
   ],
   "source": [
    "# Приводим столбец с датой на более привычный у нас в стране формат\n",
    "df2 = pd.read_csv('dataset/data.csv', encoding='1251')\n",
    "df['dt'] = pd.to_datetime(df2['DR_Dat']).dt.strftime('%d.%m.%Y')\n",
    "df.head(1)"
   ]
  },
  {
   "cell_type": "code",
   "execution_count": 12,
   "id": "be68d0f2",
   "metadata": {},
   "outputs": [
    {
     "data": {
      "text/plain": [
       "array([1, 2])"
      ]
     },
     "execution_count": 12,
     "metadata": {},
     "output_type": "execute_result"
    }
   ],
   "source": [
    "# Столбец vzak означает \"вид закупки\"\n",
    "df['vzak'].unique()\n",
    "\n",
    "# Значения в нём можно заменить на что-то более осмысленное"
   ]
  },
  {
   "cell_type": "code",
   "execution_count": 13,
   "id": "6109077c",
   "metadata": {},
   "outputs": [
    {
     "data": {
      "text/plain": [
       "array(['Обычный', 'Интернет'], dtype=object)"
      ]
     },
     "execution_count": 13,
     "metadata": {},
     "output_type": "execute_result"
    }
   ],
   "source": [
    "# 1 будет означать обычную закупку, а 2 - через Интернет\n",
    "df['vzak'] = df['vzak'].astype('str').replace('1', 'Обычный').replace('2', 'Интернет')\n",
    "df['vzak'].unique()"
   ]
  },
  {
   "cell_type": "code",
   "execution_count": 14,
   "id": "06ac39f0",
   "metadata": {},
   "outputs": [
    {
     "data": {
      "text/plain": [
       "array([18, 15])"
      ]
     },
     "execution_count": 14,
     "metadata": {},
     "output_type": "execute_result"
    }
   ],
   "source": [
    "# Столбец pay_type обозначает оплату наличными или по карте\n",
    "df['pay_type'].unique()"
   ]
  },
  {
   "cell_type": "code",
   "execution_count": 15,
   "id": "e424aee6",
   "metadata": {},
   "outputs": [
    {
     "data": {
      "text/plain": [
       "array(['Банковская карта', 'Наличные'], dtype=object)"
      ]
     },
     "execution_count": 15,
     "metadata": {},
     "output_type": "execute_result"
    }
   ],
   "source": [
    "# Также меняем значения. 15 - оплата наличными, 18 - по карте\n",
    "df['pay_type'] = df['pay_type'].astype('str').replace('15', 'Наличные').replace('18', 'Банковская карта')\n",
    "df['pay_type'].unique()"
   ]
  },
  {
   "cell_type": "code",
   "execution_count": 16,
   "id": "fa8915ad",
   "metadata": {},
   "outputs": [
    {
     "data": {
      "text/html": [
       "<div>\n",
       "<style scoped>\n",
       "    .dataframe tbody tr th:only-of-type {\n",
       "        vertical-align: middle;\n",
       "    }\n",
       "\n",
       "    .dataframe tbody tr th {\n",
       "        vertical-align: top;\n",
       "    }\n",
       "\n",
       "    .dataframe thead th {\n",
       "        text-align: right;\n",
       "    }\n",
       "</style>\n",
       "<table border=\"1\" class=\"dataframe\">\n",
       "  <thead>\n",
       "    <tr style=\"text-align: right;\">\n",
       "      <th></th>\n",
       "      <th>dt</th>\n",
       "      <th>c_time</th>\n",
       "      <th>nchk</th>\n",
       "      <th>ndoc</th>\n",
       "      <th>apt</th>\n",
       "      <th>drug</th>\n",
       "      <th>kol</th>\n",
       "      <th>zak</th>\n",
       "      <th>roz</th>\n",
       "      <th>disc</th>\n",
       "      <th>pay_type</th>\n",
       "      <th>drug_id</th>\n",
       "      <th>suppl</th>\n",
       "      <th>disc_id</th>\n",
       "      <th>disc_barcode</th>\n",
       "      <th>empl</th>\n",
       "      <th>vzak</th>\n",
       "      <th>pos</th>\n",
       "    </tr>\n",
       "  </thead>\n",
       "  <tbody>\n",
       "    <tr>\n",
       "      <th>0</th>\n",
       "      <td>11.08.2022</td>\n",
       "      <td>10:15:35</td>\n",
       "      <td>2173</td>\n",
       "      <td>2004598</td>\n",
       "      <td>2</td>\n",
       "      <td>ЦИПРОЛЕТ 3МГ/МЛ. 5МЛ. №1 ГЛ.КАПЛИ ФЛ./КАП. /Д-...</td>\n",
       "      <td>1.00</td>\n",
       "      <td>41.08</td>\n",
       "      <td>51.00</td>\n",
       "      <td>12.00</td>\n",
       "      <td>Банковская карта</td>\n",
       "      <td>45399</td>\n",
       "      <td>Катрен г.Химки</td>\n",
       "      <td>925</td>\n",
       "      <td>200000000492</td>\n",
       "      <td>205</td>\n",
       "      <td>Обычный</td>\n",
       "      <td>1.00</td>\n",
       "    </tr>\n",
       "    <tr>\n",
       "      <th>1</th>\n",
       "      <td>11.08.2022</td>\n",
       "      <td>10:27:46</td>\n",
       "      <td>2174</td>\n",
       "      <td>2004598</td>\n",
       "      <td>2</td>\n",
       "      <td>ПЕРЕКИСЬ ВОДОРОДА 3% 100МЛ. №40 Р-Р ФЛ.</td>\n",
       "      <td>1.00</td>\n",
       "      <td>18.61</td>\n",
       "      <td>31.00</td>\n",
       "      <td>3.00</td>\n",
       "      <td>Наличные</td>\n",
       "      <td>261519</td>\n",
       "      <td>Катрен г.Химки</td>\n",
       "      <td>9</td>\n",
       "      <td>200010010204</td>\n",
       "      <td>205</td>\n",
       "      <td>Обычный</td>\n",
       "      <td>1.00</td>\n",
       "    </tr>\n",
       "    <tr>\n",
       "      <th>2</th>\n",
       "      <td>11.08.2022</td>\n",
       "      <td>10:27:46</td>\n",
       "      <td>2174</td>\n",
       "      <td>2004598</td>\n",
       "      <td>2</td>\n",
       "      <td>СОФЬЯ ГЕЛЬ Д/НОГ ВЕНОТОНИЗ. ТРОКСЕРУТИН ФОРТЕ ...</td>\n",
       "      <td>1.00</td>\n",
       "      <td>132.69</td>\n",
       "      <td>209.00</td>\n",
       "      <td>20.00</td>\n",
       "      <td>Наличные</td>\n",
       "      <td>460864</td>\n",
       "      <td>Катрен г.Химки</td>\n",
       "      <td>9</td>\n",
       "      <td>200010010204</td>\n",
       "      <td>205</td>\n",
       "      <td>Обычный</td>\n",
       "      <td>2.00</td>\n",
       "    </tr>\n",
       "    <tr>\n",
       "      <th>3</th>\n",
       "      <td>11.08.2022</td>\n",
       "      <td>10:27:46</td>\n",
       "      <td>2174</td>\n",
       "      <td>2004598</td>\n",
       "      <td>2</td>\n",
       "      <td>СОФЬЯ ГХК КРЕМ Д/ТЕЛА ХОНДРОИТИН+ГЛЮКОЗАМИН 12...</td>\n",
       "      <td>1.00</td>\n",
       "      <td>133.65</td>\n",
       "      <td>210.00</td>\n",
       "      <td>21.00</td>\n",
       "      <td>Наличные</td>\n",
       "      <td>172823</td>\n",
       "      <td>Катрен г.Химки</td>\n",
       "      <td>9</td>\n",
       "      <td>200010010204</td>\n",
       "      <td>205</td>\n",
       "      <td>Обычный</td>\n",
       "      <td>3.00</td>\n",
       "    </tr>\n",
       "    <tr>\n",
       "      <th>4</th>\n",
       "      <td>11.08.2022</td>\n",
       "      <td>10:33:56</td>\n",
       "      <td>2175</td>\n",
       "      <td>2004598</td>\n",
       "      <td>2</td>\n",
       "      <td>ГАЛВУС 50МГ. №28 ТАБ. /НОВАРТИС/</td>\n",
       "      <td>1.00</td>\n",
       "      <td>709.95</td>\n",
       "      <td>787.00</td>\n",
       "      <td>49.00</td>\n",
       "      <td>Банковская карта</td>\n",
       "      <td>79056</td>\n",
       "      <td>Катрен г.Химки</td>\n",
       "      <td>925</td>\n",
       "      <td>200000000492</td>\n",
       "      <td>205</td>\n",
       "      <td>Обычный</td>\n",
       "      <td>1.00</td>\n",
       "    </tr>\n",
       "  </tbody>\n",
       "</table>\n",
       "</div>"
      ],
      "text/plain": [
       "           dt    c_time  nchk     ndoc  apt  \\\n",
       "0  11.08.2022  10:15:35  2173  2004598    2   \n",
       "1  11.08.2022  10:27:46  2174  2004598    2   \n",
       "2  11.08.2022  10:27:46  2174  2004598    2   \n",
       "3  11.08.2022  10:27:46  2174  2004598    2   \n",
       "4  11.08.2022  10:33:56  2175  2004598    2   \n",
       "\n",
       "                                                drug  kol    zak    roz  disc  \\\n",
       "0  ЦИПРОЛЕТ 3МГ/МЛ. 5МЛ. №1 ГЛ.КАПЛИ ФЛ./КАП. /Д-... 1.00  41.08  51.00 12.00   \n",
       "1            ПЕРЕКИСЬ ВОДОРОДА 3% 100МЛ. №40 Р-Р ФЛ. 1.00  18.61  31.00  3.00   \n",
       "2  СОФЬЯ ГЕЛЬ Д/НОГ ВЕНОТОНИЗ. ТРОКСЕРУТИН ФОРТЕ ... 1.00 132.69 209.00 20.00   \n",
       "3  СОФЬЯ ГХК КРЕМ Д/ТЕЛА ХОНДРОИТИН+ГЛЮКОЗАМИН 12... 1.00 133.65 210.00 21.00   \n",
       "4                   ГАЛВУС 50МГ. №28 ТАБ. /НОВАРТИС/ 1.00 709.95 787.00 49.00   \n",
       "\n",
       "           pay_type  drug_id           suppl disc_id  disc_barcode  empl  \\\n",
       "0  Банковская карта    45399  Катрен г.Химки     925  200000000492   205   \n",
       "1          Наличные   261519  Катрен г.Химки       9  200010010204   205   \n",
       "2          Наличные   460864  Катрен г.Химки       9  200010010204   205   \n",
       "3          Наличные   172823  Катрен г.Химки       9  200010010204   205   \n",
       "4  Банковская карта    79056  Катрен г.Химки     925  200000000492   205   \n",
       "\n",
       "      vzak  pos  \n",
       "0  Обычный 1.00  \n",
       "1  Обычный 1.00  \n",
       "2  Обычный 2.00  \n",
       "3  Обычный 3.00  \n",
       "4  Обычный 1.00  "
      ]
     },
     "execution_count": 16,
     "metadata": {},
     "output_type": "execute_result"
    }
   ],
   "source": [
    "df.head()"
   ]
  },
  {
   "cell_type": "markdown",
   "id": "876dbd46",
   "metadata": {},
   "source": [
    "### Exploratory data analysis - разведочный анализ данных"
   ]
  },
  {
   "cell_type": "code",
   "execution_count": null,
   "id": "9259f844",
   "metadata": {},
   "outputs": [
    {
     "name": "stdout",
     "output_type": "stream",
     "text": [
      "<class 'pandas.core.frame.DataFrame'>\n",
      "RangeIndex: 4462 entries, 0 to 4461\n",
      "Data columns (total 18 columns):\n",
      " #   Column        Non-Null Count  Dtype  \n",
      "---  ------        --------------  -----  \n",
      " 0   dt            4462 non-null   object \n",
      " 1   c_time        4462 non-null   object \n",
      " 2   nchk          4462 non-null   int64  \n",
      " 3   ndoc          4462 non-null   int64  \n",
      " 4   apt           4462 non-null   int64  \n",
      " 5   drug          4462 non-null   object \n",
      " 6   kol           4462 non-null   float64\n",
      " 7   zak           4462 non-null   float64\n",
      " 8   roz           4462 non-null   float64\n",
      " 9   disc          4462 non-null   float64\n",
      " 10  pay_type      4462 non-null   object \n",
      " 11  drug_id       4462 non-null   int64  \n",
      " 12  suppl         4462 non-null   object \n",
      " 13  disc_id       4462 non-null   object \n",
      " 14  disc_barcode  4462 non-null   object \n",
      " 15  empl          4462 non-null   int64  \n",
      " 16  vzak          4462 non-null   object \n",
      " 17  pos           4462 non-null   float64\n",
      "dtypes: float64(5), int64(5), object(8)\n",
      "memory usage: 627.6+ KB\n"
     ]
    }
   ],
   "source": [
    "# Информация по типам данных в столбцах\n",
    "df.info()"
   ]
  },
  {
   "cell_type": "code",
   "execution_count": 18,
   "id": "660952b7",
   "metadata": {},
   "outputs": [
    {
     "data": {
      "text/html": [
       "<div>\n",
       "<style scoped>\n",
       "    .dataframe tbody tr th:only-of-type {\n",
       "        vertical-align: middle;\n",
       "    }\n",
       "\n",
       "    .dataframe tbody tr th {\n",
       "        vertical-align: top;\n",
       "    }\n",
       "\n",
       "    .dataframe thead th {\n",
       "        text-align: right;\n",
       "    }\n",
       "</style>\n",
       "<table border=\"1\" class=\"dataframe\">\n",
       "  <thead>\n",
       "    <tr style=\"text-align: right;\">\n",
       "      <th></th>\n",
       "      <th>nchk</th>\n",
       "      <th>ndoc</th>\n",
       "      <th>apt</th>\n",
       "      <th>kol</th>\n",
       "      <th>zak</th>\n",
       "      <th>roz</th>\n",
       "      <th>disc</th>\n",
       "      <th>drug_id</th>\n",
       "      <th>empl</th>\n",
       "      <th>pos</th>\n",
       "    </tr>\n",
       "  </thead>\n",
       "  <tbody>\n",
       "    <tr>\n",
       "      <th>count</th>\n",
       "      <td>4462.00</td>\n",
       "      <td>4462.00</td>\n",
       "      <td>4462.00</td>\n",
       "      <td>4462.00</td>\n",
       "      <td>4462.00</td>\n",
       "      <td>4462.00</td>\n",
       "      <td>4462.00</td>\n",
       "      <td>4462.00</td>\n",
       "      <td>4462.00</td>\n",
       "      <td>4462.00</td>\n",
       "    </tr>\n",
       "    <tr>\n",
       "      <th>mean</th>\n",
       "      <td>4903.14</td>\n",
       "      <td>10842995.33</td>\n",
       "      <td>10.84</td>\n",
       "      <td>1.03</td>\n",
       "      <td>241.64</td>\n",
       "      <td>306.05</td>\n",
       "      <td>10.56</td>\n",
       "      <td>259227.09</td>\n",
       "      <td>91.74</td>\n",
       "      <td>2.68</td>\n",
       "    </tr>\n",
       "    <tr>\n",
       "      <th>std</th>\n",
       "      <td>1839.70</td>\n",
       "      <td>6107181.40</td>\n",
       "      <td>6.11</td>\n",
       "      <td>0.54</td>\n",
       "      <td>454.56</td>\n",
       "      <td>532.17</td>\n",
       "      <td>31.37</td>\n",
       "      <td>299073.90</td>\n",
       "      <td>108.08</td>\n",
       "      <td>2.75</td>\n",
       "    </tr>\n",
       "    <tr>\n",
       "      <th>min</th>\n",
       "      <td>1698.00</td>\n",
       "      <td>2004595.00</td>\n",
       "      <td>2.00</td>\n",
       "      <td>0.01</td>\n",
       "      <td>0.01</td>\n",
       "      <td>0.01</td>\n",
       "      <td>0.00</td>\n",
       "      <td>3.00</td>\n",
       "      <td>25.00</td>\n",
       "      <td>1.00</td>\n",
       "    </tr>\n",
       "    <tr>\n",
       "      <th>25%</th>\n",
       "      <td>4187.00</td>\n",
       "      <td>6003620.00</td>\n",
       "      <td>6.00</td>\n",
       "      <td>1.00</td>\n",
       "      <td>36.64</td>\n",
       "      <td>52.00</td>\n",
       "      <td>0.00</td>\n",
       "      <td>29060.00</td>\n",
       "      <td>37.00</td>\n",
       "      <td>1.00</td>\n",
       "    </tr>\n",
       "    <tr>\n",
       "      <th>50%</th>\n",
       "      <td>4877.50</td>\n",
       "      <td>11007039.00</td>\n",
       "      <td>11.00</td>\n",
       "      <td>1.00</td>\n",
       "      <td>103.78</td>\n",
       "      <td>137.00</td>\n",
       "      <td>0.00</td>\n",
       "      <td>187304.00</td>\n",
       "      <td>53.00</td>\n",
       "      <td>2.00</td>\n",
       "    </tr>\n",
       "    <tr>\n",
       "      <th>75%</th>\n",
       "      <td>5472.75</td>\n",
       "      <td>18002536.00</td>\n",
       "      <td>18.00</td>\n",
       "      <td>1.00</td>\n",
       "      <td>299.06</td>\n",
       "      <td>391.75</td>\n",
       "      <td>7.00</td>\n",
       "      <td>377589.00</td>\n",
       "      <td>123.00</td>\n",
       "      <td>3.00</td>\n",
       "    </tr>\n",
       "    <tr>\n",
       "      <th>max</th>\n",
       "      <td>8490.00</td>\n",
       "      <td>18002543.00</td>\n",
       "      <td>18.00</td>\n",
       "      <td>20.00</td>\n",
       "      <td>11851.13</td>\n",
       "      <td>12345.00</td>\n",
       "      <td>650.00</td>\n",
       "      <td>1504498.00</td>\n",
       "      <td>605.00</td>\n",
       "      <td>24.00</td>\n",
       "    </tr>\n",
       "  </tbody>\n",
       "</table>\n",
       "</div>"
      ],
      "text/plain": [
       "         nchk        ndoc     apt     kol      zak      roz    disc  \\\n",
       "count 4462.00     4462.00 4462.00 4462.00  4462.00  4462.00 4462.00   \n",
       "mean  4903.14 10842995.33   10.84    1.03   241.64   306.05   10.56   \n",
       "std   1839.70  6107181.40    6.11    0.54   454.56   532.17   31.37   \n",
       "min   1698.00  2004595.00    2.00    0.01     0.01     0.01    0.00   \n",
       "25%   4187.00  6003620.00    6.00    1.00    36.64    52.00    0.00   \n",
       "50%   4877.50 11007039.00   11.00    1.00   103.78   137.00    0.00   \n",
       "75%   5472.75 18002536.00   18.00    1.00   299.06   391.75    7.00   \n",
       "max   8490.00 18002543.00   18.00   20.00 11851.13 12345.00  650.00   \n",
       "\n",
       "         drug_id    empl     pos  \n",
       "count    4462.00 4462.00 4462.00  \n",
       "mean   259227.09   91.74    2.68  \n",
       "std    299073.90  108.08    2.75  \n",
       "min         3.00   25.00    1.00  \n",
       "25%     29060.00   37.00    1.00  \n",
       "50%    187304.00   53.00    2.00  \n",
       "75%    377589.00  123.00    3.00  \n",
       "max   1504498.00  605.00   24.00  "
      ]
     },
     "execution_count": 18,
     "metadata": {},
     "output_type": "execute_result"
    }
   ],
   "source": [
    "# Краткая сводка по статистическим данным в столбцах\n",
    "df.describe()"
   ]
  },
  {
   "cell_type": "code",
   "execution_count": 19,
   "id": "40d4e2bd",
   "metadata": {},
   "outputs": [
    {
     "data": {
      "text/plain": [
       "pay_type\n",
       "Банковская карта    2820\n",
       "Наличные            1642\n",
       "Name: count, dtype: int64"
      ]
     },
     "execution_count": 19,
     "metadata": {},
     "output_type": "execute_result"
    }
   ],
   "source": [
    "# Проверяем, сколько всего покупок совершали наличными или по карте\n",
    "df['pay_type'].value_counts()"
   ]
  },
  {
   "cell_type": "code",
   "execution_count": 20,
   "id": "928b412a",
   "metadata": {},
   "outputs": [
    {
     "data": {
      "text/plain": [
       "apt\n",
       "18    1207\n",
       "2      979\n",
       "11     870\n",
       "6      511\n",
       "13     322\n",
       "17     243\n",
       "15     177\n",
       "7      153\n",
       "Name: count, dtype: int64"
      ]
     },
     "execution_count": 20,
     "metadata": {},
     "output_type": "execute_result"
    }
   ],
   "source": [
    "# Проверяем количество продаж по каждой аптеке\n",
    "df.apt.value_counts()"
   ]
  },
  {
   "cell_type": "code",
   "execution_count": 21,
   "id": "95aee536",
   "metadata": {},
   "outputs": [
    {
     "data": {
      "text/plain": [
       "apt\n",
       "18   0.27\n",
       "2    0.22\n",
       "11   0.19\n",
       "6    0.11\n",
       "13   0.07\n",
       "17   0.05\n",
       "15   0.04\n",
       "7    0.03\n",
       "Name: proportion, dtype: float64"
      ]
     },
     "execution_count": 21,
     "metadata": {},
     "output_type": "execute_result"
    }
   ],
   "source": [
    "# Также проверяем доли от кол-ва продаж по аптекам\n",
    "df.apt.value_counts(normalize=True)"
   ]
  },
  {
   "cell_type": "code",
   "execution_count": 25,
   "id": "4c2b87ea",
   "metadata": {},
   "outputs": [
    {
     "data": {
      "text/plain": [
       "dt          empl\n",
       "11.08.2022  25     20642.29\n",
       "            30     20328.67\n",
       "            36     14090.04\n",
       "            47     16983.79\n",
       "            50     17384.41\n",
       "            53     10056.40\n",
       "            54     13981.47\n",
       "            123    23756.34\n",
       "            205     9724.19\n",
       "            605     8341.71\n",
       "12.08.2022  37     22613.80\n",
       "            48     19244.82\n",
       "            54     16801.83\n",
       "            110    22711.32\n",
       "            123    23167.41\n",
       "            205     8873.30\n",
       "dtype: float64"
      ]
     },
     "execution_count": 25,
     "metadata": {},
     "output_type": "execute_result"
    }
   ],
   "source": [
    "# Группируем датафрейм по датам и проверяем, какую прибыль принёс каждый сотрудник (независимо от аптеки)\n",
    "df.groupby(['dt', 'empl'])[['zak', 'roz', 'kol']].apply(lambda x: sum(x['kol']*(x['roz'] - x['zak'])))"
   ]
  },
  {
   "cell_type": "markdown",
   "id": "b11bebc0",
   "metadata": {},
   "source": [
    "### Визуализации"
   ]
  },
  {
   "cell_type": "code",
   "execution_count": null,
   "id": "da7b17fb",
   "metadata": {},
   "outputs": [
    {
     "data": {
      "text/plain": [
       "<Axes: >"
      ]
     },
     "execution_count": 30,
     "metadata": {},
     "output_type": "execute_result"
    },
    {
     "data": {
      "image/png": "[encoded data removed]",
      "text/plain": [
       "<Figure size 1600x600 with 2 Axes>"
      ]
     },
     "metadata": {},
     "output_type": "display_data"
    }
   ],
   "source": [
    "# Загружаем библиотеки для построения графиков\n",
    "import seaborn as sns\n",
    "import matplotlib.pyplot as plt\n",
    "\n",
    "# Строим хитмап (тепловую карту) по столбцам для проверки корреляции\n",
    "plt.figure(figsize=(16, 6))\n",
    "sns.heatmap(df.corr(numeric_only=True), vmax=1, vmin=-1, annot=True, cmap=\"coolwarm\")"
   ]
  },
  {
   "cell_type": "code",
   "execution_count": 23,
   "id": "a253c28f",
   "metadata": {},
   "outputs": [
    {
     "name": "stderr",
     "output_type": "stream",
     "text": [
      "C:\\Users\\Sersh\\AppData\\Local\\Temp\\ipykernel_17108\\857031897.py:2: UserWarning: Could not infer format, so each element will be parsed individually, falling back to `dateutil`. To ensure parsing is consistent and as-expected, please specify a format.\n",
      "  df['hour'] = pd.to_datetime(df['c_time']).dt.hour\n"
     ]
    },
    {
     "data": {
      "text/plain": [
       "hour\n",
       "8     20.10\n",
       "9    236.50\n",
       "10   361.65\n",
       "11   326.55\n",
       "12   311.59\n",
       "13   422.80\n",
       "14   358.30\n",
       "15   432.97\n",
       "16   375.88\n",
       "17   375.45\n",
       "18   457.50\n",
       "19   419.29\n",
       "20   388.57\n",
       "21    97.71\n",
       "22     1.00\n",
       "Name: kol, dtype: float64"
      ]
     },
     "execution_count": 23,
     "metadata": {},
     "output_type": "execute_result"
    }
   ],
   "source": [
    "# Cгруппируем часы посещения аптек с кол-вом продаж\n",
    "df['hour'] = pd.to_datetime(df['c_time']).dt.hour\n",
    "gr = df.groupby(['hour'])['kol'].sum()\n",
    "gr"
   ]
  },
  {
   "cell_type": "code",
   "execution_count": 24,
   "id": "aa63ef67",
   "metadata": {},
   "outputs": [
    {
     "data": {
      "text/plain": [
       "<Axes: ylabel='kol'>"
      ]
     },
     "execution_count": 24,
     "metadata": {},
     "output_type": "execute_result"
    },
    {
     "data": {
      "image/png": "[encoded data removed]",
      "text/plain": [
       "<Figure size 640x480 with 1 Axes>"
      ]
     },
     "metadata": {},
     "output_type": "display_data"
    }
   ],
   "source": [
    "# Строим боксплот (\"ящик с усами\"), чтобы наглядно показать распределение полученных значений\n",
    "sns.boxplot(gr)"
   ]
  },
  {
   "cell_type": "code",
   "execution_count": null,
   "id": "39e378a7",
   "metadata": {},
   "outputs": [
    {
     "data": {
      "image/png": "[encoded data removed]",
      "text/plain": [
       "<Figure size 640x480 with 1 Axes>"
      ]
     },
     "metadata": {},
     "output_type": "display_data"
    }
   ],
   "source": [
    "# Строим график, чтобы проверить распределение розничных цен по всем позициям\n",
    "sns.countplot(x='roz', data=df)\n",
    "plt.show()\n",
    "\n",
    "# Получается не слишком наглядно, попробуем другой способ"
   ]
  },
  {
   "cell_type": "code",
   "execution_count": 31,
   "id": "799644e4",
   "metadata": {},
   "outputs": [
    {
     "data": {
      "text/plain": [
       "<Axes: xlabel='rroz', ylabel='kol'>"
      ]
     },
     "execution_count": 31,
     "metadata": {},
     "output_type": "execute_result"
    },
    {
     "data": {
      "image/png": "[encoded data removed]",
      "text/plain": [
       "<Figure size 640x480 with 1 Axes>"
      ]
     },
     "metadata": {},
     "output_type": "display_data"
    }
   ],
   "source": [
    "# Округляем розничные цены до целого и строим по ним скаттерплот (точечный график)\n",
    "df['rroz'] = df.roz.apply(lambda x: round(x, -2))\n",
    "\n",
    "a = df.groupby(['dt', 'rroz'])['kol'].sum().reset_index()\n",
    "a = a[a.loc[:, 'rroz'] < 2000]\n",
    "\n",
    "sns.scatterplot(x=a.rroz, y=a.kol, hue=a.dt)"
   ]
  },
  {
   "cell_type": "code",
   "execution_count": null,
   "id": "1fac9741",
   "metadata": {},
   "outputs": [
    {
     "data": {
      "text/plain": [
       "<seaborn.axisgrid.JointGrid at 0x22a325e1e80>"
      ]
     },
     "execution_count": 32,
     "metadata": {},
     "output_type": "execute_result"
    },
    {
     "data": {
      "image/png": "[encoded data removed]",
      "text/plain": [
       "<Figure size 600x600 with 3 Axes>"
      ]
     },
     "metadata": {},
     "output_type": "display_data"
    }
   ],
   "source": [
    "# Также строим джоинтплот для большей наглядности\n",
    "sns.jointplot(x=a.rroz, y=a.kol, hue=a.dt)"
   ]
  }
 ],
 "metadata": {
  "kernelspec": {
   "display_name": ".venv",
   "language": "python",
   "name": "python3"
  },
  "language_info": {
   "codemirror_mode": {
    "name": "ipython",
    "version": 3
   },
   "file_extension": ".py",
   "mimetype": "text/x-python",
   "name": "python",
   "nbconvert_exporter": "python",
   "pygments_lexer": "ipython3",
   "version": "3.13.2"
  }
 },
 "nbformat": 4,
 "nbformat_minor": 5
}
